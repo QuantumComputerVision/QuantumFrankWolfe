{
 "cells": [
  {
   "cell_type": "code",
   "execution_count": 1,
   "id": "220a03bd",
   "metadata": {},
   "outputs": [],
   "source": [
    "# import libraries \n",
    "import os\n",
    "import sys\n",
    "import math \n",
    "import numpy as np \n",
    "import json \n",
    "from scipy.io import loadmat \n",
    "from scipy.io.matlab import savemat \n",
    "import dimod \n",
    "import dwavebinarycsp \n",
    "import dwave.inspector \n",
    "import minorminer \n",
    "from dwave.system import DWaveSampler, EmbeddingComposite "
   ]
  },
  {
   "cell_type": "code",
   "execution_count": 2,
   "id": "5a85ef52",
   "metadata": {},
   "outputs": [],
   "source": [
    "\n",
    "# sample qubo on DWave \n",
    "# Q_weights: a real symmetric matrix of QUBO weights; its main diagonal contains qubit biases and non-diagonal elements are qubit couplings \n",
    "# CHAIN_STR: chain strength (if CHAIN_STR < 0, the maximum chain length criterion is used) \n",
    "# N_anneals: number of anneals \n",
    "def dwave_sample_qubo(solver_, sampler, Q_weights, CHAIN_STR, N_anneals): \n",
    "    \n",
    "    # parameters that change rarely \n",
    "    epsilon         = 0.001                                                # threshold for an effective zero value \n",
    "    offset          = 0.0                                                  # bqm offset (should remaing zero) \n",
    "    vartype = dimod.BINARY                                                 # possible measurement outcomes are 0 and 1 \n",
    "    anneal_params   = dict(anneal_schedule=[[0.0, 0.0], [20.0, 1.0]])      # default annealing schedule; no pause during the anneal \n",
    "    # \n",
    "    \n",
    "    d = len(Q_weights) \n",
    "    Q = [] \n",
    "    C = [] \n",
    "    Q_RECT = Q_weights \n",
    "    C_RECT = np.diag(Q_RECT) \n",
    "    \n",
    "    #print(d) \n",
    "    #print(Q_RECT) \n",
    "    #print(C_RECT) \n",
    "    \n",
    "    # the QUBO weights (linear and quadratic) \n",
    "    linear = {} \n",
    "    quadratic = {} \n",
    "    \n",
    "    # qubit bises \n",
    "    for i in range(0, d): \n",
    "        linear[i+1] = C_RECT[i] \n",
    "    \n",
    "    # qubit couplings (only non-zero values); \"quadratic\" must be upper triangular matrix \n",
    "    for i in range(0, d): \n",
    "        for j in range(0, d): \n",
    "            if  ( (i < j) and (abs(Q_RECT[i, j]) > epsilon) ): \n",
    "                quadratic[(i+1, j+1)] =  2 * Q_RECT[i, j] \n",
    "    \n",
    "    #print(linear) \n",
    "    #print(quadratic) \n",
    "    \n",
    "    # initialise the problem and pass it to Adv4.1 \n",
    "    bqm = dimod.BinaryQuadraticModel(linear, quadratic, offset, vartype) \n",
    "    \n",
    "    # set chain strength according to the maximun chain length criterion \n",
    "    if CHAIN_STR < 0: \n",
    "        embedding_ = minorminer.find_embedding(list(bqm.quadratic.keys()), solver_.edgelist, return_overlap=1) \n",
    "        embedding_current = embedding_[0] \n",
    "        ch_lengths_ = {} \n",
    "        lenv = 0 \n",
    "        for key in embedding_current: \n",
    "            ch_lengths_[lenv] =  len(embedding_current[key]) \n",
    "            lenv += 1\n",
    "        CHAIN_STR = max(ch_lengths_.values()) + 0.5\n",
    "    \n",
    "    # sample QUBO N_anneals times \n",
    "    sampleset = sampler.sample(bqm, chain_strength = CHAIN_STR, num_reads = N_anneals, **anneal_params) \n",
    "    # select the lowest-energy sample \n",
    "    best_sample = sampleset.first.sample \n",
    "    \n",
    "    # return the lowest-energy solution \n",
    "    lowest_energy_sample = [0 for i in range(0, d)] \n",
    "    for k in range(0, d): \n",
    "        lowest_energy_sample[k]  = best_sample[k+1] \n",
    "    \n",
    "    return lowest_energy_sample; \n",
    "# end of dwave_sample_qubo "
   ]
  },
  {
   "cell_type": "code",
   "execution_count": 3,
   "id": "7b11c93f",
   "metadata": {},
   "outputs": [],
   "source": [
    "# parameters \n",
    "input_folder        = \"../datasets/synth/\" \n",
    "output_folder       = \"../output/dwaveQFW/\"\n",
    "input_file_name     = \"FW_Q_t=100.mat\"\n",
    "input_file          = input_folder +  input_file_name\n",
    "CHAIN_STR_          = -1.0               # negative value: use the maximum chain length criterion; otherwise, [positive] CHAIN_STR_ is used \n",
    "Nsamples_           = 50                 # number of samples/annealings \n",
    "\n",
    "ext = '.'+ os.path.realpath(input_file_name).split('.')[-1:][0]\n",
    "output_file = output_folder + input_file_name.replace('.mat','.csv')\n",
    "\n",
    "# initialize sampler and solver\n",
    "solver_ = DWaveSampler(solver='Advantage_system4.1')\n",
    "sampler = EmbeddingComposite(DWaveSampler(solver_))"
   ]
  },
  {
   "cell_type": "code",
   "execution_count": 4,
   "id": "2f7b6917",
   "metadata": {},
   "outputs": [
    {
     "name": "stdout",
     "output_type": "stream",
     "text": [
      "../output/dwaveQFW/FW_Q_t=100.csv\n"
     ]
    }
   ],
   "source": [
    "# load the data \n",
    "matfile = loadmat(input_file) \n",
    "x = matfile['data'] \n",
    "Q = x['Q'][0][0] \n",
    "Q_weights_ = Q \n",
    "\n",
    "# sample qubo on DWave \n",
    "lowest_energy_sample = [] \n",
    "lowest_energy_sample = dwave_sample_qubo(solver_, sampler, Q_weights_, CHAIN_STR_, Nsamples_) \n",
    "\n",
    "# save the result in a \".csv\" file \n",
    "np.savetxt(output_file, lowest_energy_sample, fmt='%d', newline=\" \") \n",
    "\n",
    "print(output_file)"
   ]
  }
 ],
 "metadata": {
  "kernelspec": {
   "display_name": "Python 3",
   "language": "python",
   "name": "python3"
  },
  "language_info": {
   "codemirror_mode": {
    "name": "ipython",
    "version": 3
   },
   "file_extension": ".py",
   "mimetype": "text/x-python",
   "name": "python",
   "nbconvert_exporter": "python",
   "pygments_lexer": "ipython3",
   "version": "3.8.8"
  }
 },
 "nbformat": 4,
 "nbformat_minor": 5
}
